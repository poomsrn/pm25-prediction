{
  "cells": [
    {
      "cell_type": "code",
      "execution_count": 195,
      "metadata": {
        "colab": {
          "base_uri": "https://localhost:8080/"
        },
        "id": "fL5uYjE6CCqg",
        "outputId": "ca359279-70ea-445b-f448-be41f72188de"
      },
      "outputs": [
        {
          "name": "stdout",
          "output_type": "stream",
          "text": [
            "Drive already mounted at /content/drive; to attempt to forcibly remount, call drive.mount(\"/content/drive\", force_remount=True).\n"
          ]
        }
      ],
      "source": [
        "from google.colab import drive\n",
        "drive.mount('/content/drive')"
      ]
    },
    {
      "cell_type": "code",
      "execution_count": 261,
      "metadata": {
        "id": "YotmZNs2ChFy"
      },
      "outputs": [],
      "source": [
        "import pandas as pd\n",
        "import numpy as np\n",
        "import matplotlib.pyplot as plt"
      ]
    },
    {
      "cell_type": "code",
      "execution_count": 197,
      "metadata": {
        "id": "xpEUJ2xcCJUx"
      },
      "outputs": [],
      "source": [
        "df = pd.read_csv('/content/drive/Shareddrives/data-project2/Data/earthnull/cleaned_data_new2.csv')"
      ]
    },
    {
      "cell_type": "code",
      "execution_count": 198,
      "metadata": {
        "colab": {
          "base_uri": "https://localhost:8080/",
          "height": 679
        },
        "id": "Bjsum1AaCoEc",
        "outputId": "9e017b23-fb15-4449-a5e8-e7caf6e32db8"
      },
      "outputs": [
        {
          "data": {
            "text/html": [
              "\n",
              "  <div id=\"df-bbaa37b0-0bb8-4443-9a94-ee63aee74c3d\">\n",
              "    <div class=\"colab-df-container\">\n",
              "      <div>\n",
              "<style scoped>\n",
              "    .dataframe tbody tr th:only-of-type {\n",
              "        vertical-align: middle;\n",
              "    }\n",
              "\n",
              "    .dataframe tbody tr th {\n",
              "        vertical-align: top;\n",
              "    }\n",
              "\n",
              "    .dataframe thead th {\n",
              "        text-align: right;\n",
              "    }\n",
              "</style>\n",
              "<table border=\"1\" class=\"dataframe\">\n",
              "  <thead>\n",
              "    <tr style=\"text-align: right;\">\n",
              "      <th></th>\n",
              "      <th>Unnamed: 0</th>\n",
              "      <th>lat</th>\n",
              "      <th>long</th>\n",
              "      <th>date_time</th>\n",
              "      <th>temp</th>\n",
              "      <th>RH</th>\n",
              "      <th>pm25</th>\n",
              "      <th>pm10</th>\n",
              "      <th>wind_dir</th>\n",
              "      <th>wind_speed</th>\n",
              "      <th>stationIDs</th>\n",
              "      <th>stationID</th>\n",
              "      <th>province</th>\n",
              "      <th>station_name</th>\n",
              "      <th>zone</th>\n",
              "    </tr>\n",
              "  </thead>\n",
              "  <tbody>\n",
              "    <tr>\n",
              "      <th>0</th>\n",
              "      <td>0</td>\n",
              "      <td>19.909242</td>\n",
              "      <td>99.823357</td>\n",
              "      <td>2020-01-01 07:00:00</td>\n",
              "      <td>15.5</td>\n",
              "      <td>98.0</td>\n",
              "      <td>18.0</td>\n",
              "      <td>26.0</td>\n",
              "      <td>150.0</td>\n",
              "      <td>19.0</td>\n",
              "      <td>57t</td>\n",
              "      <td>1</td>\n",
              "      <td>เชียงราย</td>\n",
              "      <td>ต.เวียง</td>\n",
              "      <td>N</td>\n",
              "    </tr>\n",
              "    <tr>\n",
              "      <th>1</th>\n",
              "      <td>1</td>\n",
              "      <td>18.790920</td>\n",
              "      <td>98.988106</td>\n",
              "      <td>2020-01-01 07:00:00</td>\n",
              "      <td>16.9</td>\n",
              "      <td>94.0</td>\n",
              "      <td>26.0</td>\n",
              "      <td>37.0</td>\n",
              "      <td>130.0</td>\n",
              "      <td>26.0</td>\n",
              "      <td>36t</td>\n",
              "      <td>2</td>\n",
              "      <td>เชียงใหม่</td>\n",
              "      <td>ต.ศรีภูมิ</td>\n",
              "      <td>N</td>\n",
              "    </tr>\n",
              "    <tr>\n",
              "      <th>2</th>\n",
              "      <td>2</td>\n",
              "      <td>18.282664</td>\n",
              "      <td>99.659873</td>\n",
              "      <td>2020-01-01 07:00:00</td>\n",
              "      <td>18.4</td>\n",
              "      <td>86.0</td>\n",
              "      <td>14.0</td>\n",
              "      <td>20.0</td>\n",
              "      <td>125.0</td>\n",
              "      <td>31.0</td>\n",
              "      <td>40t</td>\n",
              "      <td>3</td>\n",
              "      <td>ลำปาง</td>\n",
              "      <td>ต.แม่เมาะ</td>\n",
              "      <td>N</td>\n",
              "    </tr>\n",
              "    <tr>\n",
              "      <th>3</th>\n",
              "      <td>3</td>\n",
              "      <td>19.200226</td>\n",
              "      <td>99.893048</td>\n",
              "      <td>2020-01-01 07:00:00</td>\n",
              "      <td>16.3</td>\n",
              "      <td>98.0</td>\n",
              "      <td>16.0</td>\n",
              "      <td>23.0</td>\n",
              "      <td>135.0</td>\n",
              "      <td>29.0</td>\n",
              "      <td>70t</td>\n",
              "      <td>4</td>\n",
              "      <td>พะเยา</td>\n",
              "      <td>ต.บ้านต๋อม</td>\n",
              "      <td>N</td>\n",
              "    </tr>\n",
              "    <tr>\n",
              "      <th>4</th>\n",
              "      <td>4</td>\n",
              "      <td>18.788878</td>\n",
              "      <td>100.776359</td>\n",
              "      <td>2020-01-01 07:00:00</td>\n",
              "      <td>16.8</td>\n",
              "      <td>88.0</td>\n",
              "      <td>26.0</td>\n",
              "      <td>38.0</td>\n",
              "      <td>125.0</td>\n",
              "      <td>27.0</td>\n",
              "      <td>67t</td>\n",
              "      <td>5</td>\n",
              "      <td>น่าน</td>\n",
              "      <td>ต.ในเวียง</td>\n",
              "      <td>N</td>\n",
              "    </tr>\n",
              "    <tr>\n",
              "      <th>...</th>\n",
              "      <td>...</td>\n",
              "      <td>...</td>\n",
              "      <td>...</td>\n",
              "      <td>...</td>\n",
              "      <td>...</td>\n",
              "      <td>...</td>\n",
              "      <td>...</td>\n",
              "      <td>...</td>\n",
              "      <td>...</td>\n",
              "      <td>...</td>\n",
              "      <td>...</td>\n",
              "      <td>...</td>\n",
              "      <td>...</td>\n",
              "      <td>...</td>\n",
              "      <td>...</td>\n",
              "    </tr>\n",
              "    <tr>\n",
              "      <th>512251</th>\n",
              "      <td>512251</td>\n",
              "      <td>13.588554</td>\n",
              "      <td>101.286359</td>\n",
              "      <td>2022-01-01 06:00:00</td>\n",
              "      <td>21.1</td>\n",
              "      <td>69.0</td>\n",
              "      <td>8.0</td>\n",
              "      <td>13.0</td>\n",
              "      <td>65.0</td>\n",
              "      <td>26.0</td>\n",
              "      <td>60t</td>\n",
              "      <td>25</td>\n",
              "      <td>ฉะเชิงเทรา</td>\n",
              "      <td>ต.วังเย็น</td>\n",
              "      <td>E</td>\n",
              "    </tr>\n",
              "    <tr>\n",
              "      <th>512252</th>\n",
              "      <td>512252</td>\n",
              "      <td>13.355065</td>\n",
              "      <td>100.977777</td>\n",
              "      <td>2022-01-01 06:00:00</td>\n",
              "      <td>22.4</td>\n",
              "      <td>65.0</td>\n",
              "      <td>11.0</td>\n",
              "      <td>17.0</td>\n",
              "      <td>60.0</td>\n",
              "      <td>27.0</td>\n",
              "      <td>34t</td>\n",
              "      <td>26</td>\n",
              "      <td>ชลบุรี</td>\n",
              "      <td>ต.บ้านสวน</td>\n",
              "      <td>E</td>\n",
              "    </tr>\n",
              "    <tr>\n",
              "      <th>512253</th>\n",
              "      <td>512253</td>\n",
              "      <td>13.054551</td>\n",
              "      <td>101.098128</td>\n",
              "      <td>2022-01-01 06:00:00</td>\n",
              "      <td>21.0</td>\n",
              "      <td>71.0</td>\n",
              "      <td>7.0</td>\n",
              "      <td>11.0</td>\n",
              "      <td>60.0</td>\n",
              "      <td>25.0</td>\n",
              "      <td>33t</td>\n",
              "      <td>27</td>\n",
              "      <td>ชลบุรี</td>\n",
              "      <td>ต.บ่อวิน</td>\n",
              "      <td>E</td>\n",
              "    </tr>\n",
              "    <tr>\n",
              "      <th>512254</th>\n",
              "      <td>512254</td>\n",
              "      <td>12.706325</td>\n",
              "      <td>101.180975</td>\n",
              "      <td>2022-01-01 06:00:00</td>\n",
              "      <td>23.2</td>\n",
              "      <td>69.0</td>\n",
              "      <td>6.0</td>\n",
              "      <td>10.0</td>\n",
              "      <td>65.0</td>\n",
              "      <td>24.0</td>\n",
              "      <td>74t</td>\n",
              "      <td>28</td>\n",
              "      <td>ระยอง</td>\n",
              "      <td>ต.เนินพระ</td>\n",
              "      <td>E</td>\n",
              "    </tr>\n",
              "    <tr>\n",
              "      <th>512255</th>\n",
              "      <td>512255</td>\n",
              "      <td>12.234862</td>\n",
              "      <td>102.523721</td>\n",
              "      <td>2022-01-01 06:00:00</td>\n",
              "      <td>22.4</td>\n",
              "      <td>75.0</td>\n",
              "      <td>8.0</td>\n",
              "      <td>12.0</td>\n",
              "      <td>75.0</td>\n",
              "      <td>20.0</td>\n",
              "      <td>87t</td>\n",
              "      <td>29</td>\n",
              "      <td>ตราด</td>\n",
              "      <td>อ.เมือง</td>\n",
              "      <td>E</td>\n",
              "    </tr>\n",
              "  </tbody>\n",
              "</table>\n",
              "<p>512256 rows × 15 columns</p>\n",
              "</div>\n",
              "      <button class=\"colab-df-convert\" onclick=\"convertToInteractive('df-bbaa37b0-0bb8-4443-9a94-ee63aee74c3d')\"\n",
              "              title=\"Convert this dataframe to an interactive table.\"\n",
              "              style=\"display:none;\">\n",
              "        \n",
              "  <svg xmlns=\"http://www.w3.org/2000/svg\" height=\"24px\"viewBox=\"0 0 24 24\"\n",
              "       width=\"24px\">\n",
              "    <path d=\"M0 0h24v24H0V0z\" fill=\"none\"/>\n",
              "    <path d=\"M18.56 5.44l.94 2.06.94-2.06 2.06-.94-2.06-.94-.94-2.06-.94 2.06-2.06.94zm-11 1L8.5 8.5l.94-2.06 2.06-.94-2.06-.94L8.5 2.5l-.94 2.06-2.06.94zm10 10l.94 2.06.94-2.06 2.06-.94-2.06-.94-.94-2.06-.94 2.06-2.06.94z\"/><path d=\"M17.41 7.96l-1.37-1.37c-.4-.4-.92-.59-1.43-.59-.52 0-1.04.2-1.43.59L10.3 9.45l-7.72 7.72c-.78.78-.78 2.05 0 2.83L4 21.41c.39.39.9.59 1.41.59.51 0 1.02-.2 1.41-.59l7.78-7.78 2.81-2.81c.8-.78.8-2.07 0-2.86zM5.41 20L4 18.59l7.72-7.72 1.47 1.35L5.41 20z\"/>\n",
              "  </svg>\n",
              "      </button>\n",
              "      \n",
              "  <style>\n",
              "    .colab-df-container {\n",
              "      display:flex;\n",
              "      flex-wrap:wrap;\n",
              "      gap: 12px;\n",
              "    }\n",
              "\n",
              "    .colab-df-convert {\n",
              "      background-color: #E8F0FE;\n",
              "      border: none;\n",
              "      border-radius: 50%;\n",
              "      cursor: pointer;\n",
              "      display: none;\n",
              "      fill: #1967D2;\n",
              "      height: 32px;\n",
              "      padding: 0 0 0 0;\n",
              "      width: 32px;\n",
              "    }\n",
              "\n",
              "    .colab-df-convert:hover {\n",
              "      background-color: #E2EBFA;\n",
              "      box-shadow: 0px 1px 2px rgba(60, 64, 67, 0.3), 0px 1px 3px 1px rgba(60, 64, 67, 0.15);\n",
              "      fill: #174EA6;\n",
              "    }\n",
              "\n",
              "    [theme=dark] .colab-df-convert {\n",
              "      background-color: #3B4455;\n",
              "      fill: #D2E3FC;\n",
              "    }\n",
              "\n",
              "    [theme=dark] .colab-df-convert:hover {\n",
              "      background-color: #434B5C;\n",
              "      box-shadow: 0px 1px 3px 1px rgba(0, 0, 0, 0.15);\n",
              "      filter: drop-shadow(0px 1px 2px rgba(0, 0, 0, 0.3));\n",
              "      fill: #FFFFFF;\n",
              "    }\n",
              "  </style>\n",
              "\n",
              "      <script>\n",
              "        const buttonEl =\n",
              "          document.querySelector('#df-bbaa37b0-0bb8-4443-9a94-ee63aee74c3d button.colab-df-convert');\n",
              "        buttonEl.style.display =\n",
              "          google.colab.kernel.accessAllowed ? 'block' : 'none';\n",
              "\n",
              "        async function convertToInteractive(key) {\n",
              "          const element = document.querySelector('#df-bbaa37b0-0bb8-4443-9a94-ee63aee74c3d');\n",
              "          const dataTable =\n",
              "            await google.colab.kernel.invokeFunction('convertToInteractive',\n",
              "                                                     [key], {});\n",
              "          if (!dataTable) return;\n",
              "\n",
              "          const docLinkHtml = 'Like what you see? Visit the ' +\n",
              "            '<a target=\"_blank\" href=https://colab.research.google.com/notebooks/data_table.ipynb>data table notebook</a>'\n",
              "            + ' to learn more about interactive tables.';\n",
              "          element.innerHTML = '';\n",
              "          dataTable['output_type'] = 'display_data';\n",
              "          await google.colab.output.renderOutput(dataTable, element);\n",
              "          const docLink = document.createElement('div');\n",
              "          docLink.innerHTML = docLinkHtml;\n",
              "          element.appendChild(docLink);\n",
              "        }\n",
              "      </script>\n",
              "    </div>\n",
              "  </div>\n",
              "  "
            ],
            "text/plain": [
              "        Unnamed: 0        lat        long            date_time  temp    RH  \\\n",
              "0                0  19.909242   99.823357  2020-01-01 07:00:00  15.5  98.0   \n",
              "1                1  18.790920   98.988106  2020-01-01 07:00:00  16.9  94.0   \n",
              "2                2  18.282664   99.659873  2020-01-01 07:00:00  18.4  86.0   \n",
              "3                3  19.200226   99.893048  2020-01-01 07:00:00  16.3  98.0   \n",
              "4                4  18.788878  100.776359  2020-01-01 07:00:00  16.8  88.0   \n",
              "...            ...        ...         ...                  ...   ...   ...   \n",
              "512251      512251  13.588554  101.286359  2022-01-01 06:00:00  21.1  69.0   \n",
              "512252      512252  13.355065  100.977777  2022-01-01 06:00:00  22.4  65.0   \n",
              "512253      512253  13.054551  101.098128  2022-01-01 06:00:00  21.0  71.0   \n",
              "512254      512254  12.706325  101.180975  2022-01-01 06:00:00  23.2  69.0   \n",
              "512255      512255  12.234862  102.523721  2022-01-01 06:00:00  22.4  75.0   \n",
              "\n",
              "        pm25  pm10  wind_dir  wind_speed stationIDs  stationID    province  \\\n",
              "0       18.0  26.0     150.0        19.0        57t          1    เชียงราย   \n",
              "1       26.0  37.0     130.0        26.0        36t          2   เชียงใหม่   \n",
              "2       14.0  20.0     125.0        31.0        40t          3       ลำปาง   \n",
              "3       16.0  23.0     135.0        29.0        70t          4       พะเยา   \n",
              "4       26.0  38.0     125.0        27.0        67t          5        น่าน   \n",
              "...      ...   ...       ...         ...        ...        ...         ...   \n",
              "512251   8.0  13.0      65.0        26.0        60t         25  ฉะเชิงเทรา   \n",
              "512252  11.0  17.0      60.0        27.0        34t         26      ชลบุรี   \n",
              "512253   7.0  11.0      60.0        25.0        33t         27      ชลบุรี   \n",
              "512254   6.0  10.0      65.0        24.0        74t         28       ระยอง   \n",
              "512255   8.0  12.0      75.0        20.0        87t         29        ตราด   \n",
              "\n",
              "       station_name zone  \n",
              "0           ต.เวียง    N  \n",
              "1         ต.ศรีภูมิ    N  \n",
              "2         ต.แม่เมาะ    N  \n",
              "3        ต.บ้านต๋อม    N  \n",
              "4         ต.ในเวียง    N  \n",
              "...             ...  ...  \n",
              "512251    ต.วังเย็น    E  \n",
              "512252    ต.บ้านสวน    E  \n",
              "512253     ต.บ่อวิน    E  \n",
              "512254    ต.เนินพระ    E  \n",
              "512255      อ.เมือง    E  \n",
              "\n",
              "[512256 rows x 15 columns]"
            ]
          },
          "execution_count": 198,
          "metadata": {},
          "output_type": "execute_result"
        }
      ],
      "source": [
        "df"
      ]
    },
    {
      "cell_type": "code",
      "execution_count": 199,
      "metadata": {
        "id": "9Qu2iVp7Vrg1"
      },
      "outputs": [],
      "source": [
        "df = df.drop(columns='Unnamed: 0')"
      ]
    },
    {
      "cell_type": "code",
      "execution_count": 200,
      "metadata": {
        "id": "bfI2zBnMDdZr"
      },
      "outputs": [],
      "source": [
        "df['zone'] = df['zone'].replace(['N','NE','C','E','W','S'],[1,2,3,4,5,6])"
      ]
    },
    {
      "cell_type": "code",
      "execution_count": 201,
      "metadata": {
        "id": "x_U_80OQFU1X"
      },
      "outputs": [],
      "source": [
        "# station_id = ['57t', '36t', '40t', '70t', '67t', '91t', '90t', '46t', 'o20', 'm1', '47t', 'o32', '41t', '86t', '42t', '44t', '89t', '93t', '63t', '50t', 'bkp89t', 'bkp78t', 'bkp56t', '19t', '60t', '34t', '33t', '74t', '87t']\n",
        "# df['stationID'] = df['stationID'].replace(station_id,[1,2,3,4,5,6,7,8,9,10,11,12,13,14,15,16,17,18,19,20,21,22,23,24,25,26,27,28,29])"
      ]
    },
    {
      "cell_type": "code",
      "execution_count": 202,
      "metadata": {
        "id": "mkE2XY-bJGJw"
      },
      "outputs": [],
      "source": [
        "df = df.sort_values(by=['date_time','stationID'], ascending=True)"
      ]
    },
    {
      "cell_type": "code",
      "execution_count": 203,
      "metadata": {
        "id": "GQ1JpF2VVc68"
      },
      "outputs": [],
      "source": [
        "df = df.drop_duplicates()"
      ]
    },
    {
      "cell_type": "code",
      "execution_count": 204,
      "metadata": {
        "id": "C8ELlFwLXb9E"
      },
      "outputs": [],
      "source": [
        "df = df.drop(3480)"
      ]
    },
    {
      "cell_type": "code",
      "execution_count": 205,
      "metadata": {
        "colab": {
          "base_uri": "https://localhost:8080/"
        },
        "id": "_tCX1Tud0Tiy",
        "outputId": "a51137be-eca8-4b1c-8760-19976f2de620"
      },
      "outputs": [
        {
          "data": {
            "text/plain": [
              "(508776, 14)"
            ]
          },
          "execution_count": 205,
          "metadata": {},
          "output_type": "execute_result"
        }
      ],
      "source": [
        "df.shape"
      ]
    },
    {
      "cell_type": "code",
      "execution_count": 206,
      "metadata": {
        "id": "QMJdCWHqabvC"
      },
      "outputs": [],
      "source": [
        "df_train = df[360000:460000]\n",
        "df_val = df[460000:470000]\n",
        "df_test = df[470000:]"
      ]
    },
    {
      "cell_type": "code",
      "execution_count": 207,
      "metadata": {
        "id": "Es0Tr5LSayYa"
      },
      "outputs": [],
      "source": [
        "df_train = df_train.sort_values(by=['stationID','date_time'], ascending=True)\n",
        "df_val = df_val.sort_values(by=['stationID','date_time'], ascending=True)\n",
        "df_test = df_test.sort_values(by=['stationID','date_time'], ascending=True)"
      ]
    },
    {
      "cell_type": "markdown",
      "metadata": {
        "id": "8u26d5oHDrtF"
      },
      "source": [
        "Select Feature"
      ]
    },
    {
      "cell_type": "code",
      "execution_count": 208,
      "metadata": {
        "id": "mbLCuudeFWI8"
      },
      "outputs": [],
      "source": [
        "selected_df_train = df_train[['temp','RH','pm25','wind_dir','wind_speed','stationID','zone']]\n",
        "selected_df_val = df_val[['temp','RH','pm25','wind_dir','wind_speed','stationID','zone']]\n",
        "selected_df_test = df_test[['temp','RH','pm25','wind_dir','wind_speed','stationID','zone']]"
      ]
    },
    {
      "cell_type": "markdown",
      "metadata": {
        "id": "YjypaSUOJ2qY"
      },
      "source": [
        "#Outlier"
      ]
    },
    {
      "cell_type": "code",
      "execution_count": 209,
      "metadata": {
        "id": "87XUpwLVGYLg"
      },
      "outputs": [],
      "source": [
        "def find_iqr(column,df):\n",
        "\n",
        "  q1_age = df[column].quantile(0.25)\n",
        "  q3_age = df[column].quantile(0.75)\n",
        "  return q3_age-q1_age"
      ]
    },
    {
      "cell_type": "code",
      "execution_count": 210,
      "metadata": {
        "id": "R8EYvvgsG2vL"
      },
      "outputs": [],
      "source": [
        "def findmin(iqr,q1):\n",
        "  return q1-1.5*iqr\n",
        "def findmax(iqr,q3):\n",
        "  return q3+1.5*iqr"
      ]
    },
    {
      "cell_type": "code",
      "execution_count": 211,
      "metadata": {
        "id": "dRy2FGdWG8YG"
      },
      "outputs": [],
      "source": [
        "def replace_outlier(feature,df): \n",
        "  \n",
        "  for i in range(len(feature)):\n",
        "    print(feature[i])\n",
        "    max = findmax(find_iqr(feature[i],df),df[feature[i]].quantile(0.75))\n",
        "    min = findmin(find_iqr(feature[i],df),df[feature[i]].quantile(0.25))\n",
        "    if(min < 0): min = 0\n",
        "    print(min,max)\n",
        "    \n",
        "    df[feature[i]].mask(df[feature[i]] > max, max, inplace=True)\n",
        "    df[feature[i]].mask(df[feature[i]] < min, min, inplace=True)\n",
        "  return df"
      ]
    },
    {
      "cell_type": "code",
      "execution_count": 212,
      "metadata": {
        "colab": {
          "base_uri": "https://localhost:8080/"
        },
        "id": "A8jQ34T9G-57",
        "outputId": "32c1b108-90f8-4978-b910-7e71d5c1351a"
      },
      "outputs": [
        {
          "name": "stdout",
          "output_type": "stream",
          "text": [
            "temp\n",
            "18.049999999999997 35.25\n",
            "RH\n",
            "42.5 118.5\n",
            "pm25\n",
            "0 34.5\n",
            "wind_dir\n",
            "95.0 375.0\n",
            "wind_speed\n",
            "0 62.0\n",
            "temp\n",
            "17.349999999999998 33.75\n",
            "RH\n"
          ]
        },
        {
          "name": "stderr",
          "output_type": "stream",
          "text": [
            "/usr/local/lib/python3.7/dist-packages/pandas/core/generic.py:8870: SettingWithCopyWarning: \n",
            "A value is trying to be set on a copy of a slice from a DataFrame\n",
            "\n",
            "See the caveats in the documentation: https://pandas.pydata.org/pandas-docs/stable/user_guide/indexing.html#returning-a-view-versus-a-copy\n",
            "  return self._update_inplace(result)\n"
          ]
        },
        {
          "name": "stdout",
          "output_type": "stream",
          "text": [
            "51.0 115.0\n",
            "pm25\n",
            "0 39.5\n",
            "wind_dir\n",
            "15.0 175.0\n",
            "wind_speed\n",
            "0 42.0\n"
          ]
        }
      ],
      "source": [
        "feature = ['temp','RH','pm25','wind_dir','wind_speed']\n",
        "train_df_r_outlier = replace_outlier(feature, selected_df_train)\n",
        "val_df_r_outlier = replace_outlier(feature, selected_df_val)"
      ]
    },
    {
      "cell_type": "markdown",
      "metadata": {
        "id": "ANTwdamYX1TX"
      },
      "source": [
        "#MinMaxScale"
      ]
    },
    {
      "cell_type": "markdown",
      "metadata": {
        "id": "vDAm0guYtjac"
      },
      "source": [
        "Combine train and validation for scale"
      ]
    },
    {
      "cell_type": "code",
      "execution_count": 214,
      "metadata": {
        "id": "1e3HHthHtQdc"
      },
      "outputs": [],
      "source": [
        "train_df_for_scale = pd.concat([train_df_r_outlier, val_df_r_outlier], join=\"inner\")"
      ]
    },
    {
      "cell_type": "code",
      "execution_count": 215,
      "metadata": {
        "id": "n2dyJSuhKmls"
      },
      "outputs": [],
      "source": [
        "from sklearn.preprocessing import MinMaxScaler\n",
        "scaler = MinMaxScaler()\n",
        "train_val_df_scale = scaler.fit_transform(train_df_for_scale)\n",
        "test_df_scale = scaler.transform(selected_df_test)"
      ]
    },
    {
      "cell_type": "markdown",
      "metadata": {
        "id": "CtNStHEJDyvG"
      },
      "source": [
        "Save scaler"
      ]
    },
    {
      "cell_type": "code",
      "execution_count": 304,
      "metadata": {
        "colab": {
          "base_uri": "https://localhost:8080/"
        },
        "id": "NWe0szE4-tIX",
        "outputId": "beb81c64-860c-42eb-8c17-49ad83890ffd"
      },
      "outputs": [
        {
          "data": {
            "text/plain": [
              "['/content/scaler.save']"
            ]
          },
          "execution_count": 304,
          "metadata": {},
          "output_type": "execute_result"
        }
      ],
      "source": [
        "import joblib\n",
        "scaler_filename = \"/content/scaler.save\"\n",
        "joblib.dump(scaler, scaler_filename)"
      ]
    },
    {
      "cell_type": "code",
      "execution_count": 216,
      "metadata": {
        "colab": {
          "base_uri": "https://localhost:8080/"
        },
        "id": "Xj_c9eNlvHk6",
        "outputId": "a74ababb-78eb-44df-b815-2e4c49097bc3"
      },
      "outputs": [
        {
          "data": {
            "text/plain": [
              "(38776, 7)"
            ]
          },
          "execution_count": 216,
          "metadata": {},
          "output_type": "execute_result"
        }
      ],
      "source": [
        "test_df_scale.shape"
      ]
    },
    {
      "cell_type": "markdown",
      "metadata": {
        "id": "uh26P2Yxtn-W"
      },
      "source": [
        "Extract train and validation"
      ]
    },
    {
      "cell_type": "code",
      "execution_count": 217,
      "metadata": {
        "id": "lrZVPJNrtirD"
      },
      "outputs": [],
      "source": [
        "train_df_scale = train_val_df_scale[:train_df_r_outlier.shape[0]]\n",
        "val_df_scale = train_val_df_scale[train_df_r_outlier.shape[0]:]"
      ]
    },
    {
      "cell_type": "code",
      "execution_count": 218,
      "metadata": {
        "colab": {
          "base_uri": "https://localhost:8080/"
        },
        "id": "GF1-18pk01fK",
        "outputId": "d73a6893-5985-40f5-a5d9-642a745689b8"
      },
      "outputs": [
        {
          "data": {
            "text/plain": [
              "(10000, 7)"
            ]
          },
          "execution_count": 218,
          "metadata": {},
          "output_type": "execute_result"
        }
      ],
      "source": [
        "val_df_scale.shape"
      ]
    },
    {
      "cell_type": "code",
      "execution_count": 219,
      "metadata": {
        "id": "n1EgmQsHgahc"
      },
      "outputs": [],
      "source": [
        "# small_train_df_scale = train_df_scale[200000:]"
      ]
    },
    {
      "cell_type": "code",
      "execution_count": 220,
      "metadata": {
        "colab": {
          "base_uri": "https://localhost:8080/"
        },
        "id": "odwBH52OoxlP",
        "outputId": "89af6d2c-aa8a-4736-faee-ba25a28a6417"
      },
      "outputs": [
        {
          "data": {
            "text/plain": [
              "MinMaxScaler()"
            ]
          },
          "execution_count": 220,
          "metadata": {},
          "output_type": "execute_result"
        }
      ],
      "source": [
        "y_scaler = MinMaxScaler()\n",
        "y_scaler.fit(np.array(train_df_for_scale['pm25']).reshape(-1,1))"
      ]
    },
    {
      "cell_type": "markdown",
      "metadata": {
        "id": "8O9unWlED1Na"
      },
      "source": [
        "Save y_scaler"
      ]
    },
    {
      "cell_type": "code",
      "execution_count": 305,
      "metadata": {
        "colab": {
          "base_uri": "https://localhost:8080/"
        },
        "id": "vpd8pGPY-vEb",
        "outputId": "ee7453c5-0a18-43ed-bdd4-68afc4cb7363"
      },
      "outputs": [
        {
          "data": {
            "text/plain": [
              "['/content/y_scaler.save']"
            ]
          },
          "execution_count": 305,
          "metadata": {},
          "output_type": "execute_result"
        }
      ],
      "source": [
        "scaler_filename = \"/content/y_scaler.save\"\n",
        "joblib.dump(y_scaler, scaler_filename) "
      ]
    },
    {
      "cell_type": "markdown",
      "metadata": {
        "id": "TqWjMdZ8YKvn"
      },
      "source": [
        "#Preprocess for LSTM"
      ]
    },
    {
      "cell_type": "code",
      "execution_count": 227,
      "metadata": {
        "id": "XDrq3MwHYDa4"
      },
      "outputs": [],
      "source": [
        "X_data = []\n",
        "y_data = []\n",
        "\n",
        "for i in range(72,train_df_scale.shape[0]-72):\n",
        "    if train_df_scale[i, 5] != train_df_scale[i+1, 5] and train_df_scale[i-24, 5] == train_df_scale[i, 5] and train_df_scale[i+1, 5] != train_df_scale[i+72, 5]:\n",
        "        continue\n",
        "    X_data.append(train_df_scale[i-72:i])\n",
        "    y_data.append(train_df_scale[i:i+24, 2])\n",
        "\n",
        "X_data, y_data = np.array(X_data), np.array(y_data)"
      ]
    },
    {
      "cell_type": "code",
      "execution_count": 228,
      "metadata": {
        "id": "PtiJnn-meRdZ"
      },
      "outputs": [],
      "source": [
        "X_val = []\n",
        "y_val = []\n",
        "\n",
        "for i in range(72,val_df_scale.shape[0]-72):\n",
        "    if val_df_scale[i, 5] != val_df_scale[i+1, 5] and val_df_scale[i-24, 5] == val_df_scale[i, 5] and val_df_scale[i+1, 5] != val_df_scale[i+72, 5]:\n",
        "        continue\n",
        "    X_val.append(val_df_scale[i-72:i])\n",
        "    y_val.append(val_df_scale[i:i+24, 2])\n",
        "\n",
        "X_val, y_val = np.array(X_val), np.array(y_val)"
      ]
    },
    {
      "cell_type": "code",
      "execution_count": 231,
      "metadata": {
        "colab": {
          "base_uri": "https://localhost:8080/"
        },
        "id": "ZLGA5OREdKAk",
        "outputId": "ebc42243-6931-4790-bf44-d4fc70a7bb9c"
      },
      "outputs": [
        {
          "data": {
            "text/plain": [
              "array([[1., 1., 1., ..., 1., 1., 1.],\n",
              "       [7., 7., 7., ..., 7., 7., 7.],\n",
              "       [7., 7., 7., ..., 7., 7., 7.],\n",
              "       ...,\n",
              "       [6., 6., 1., ..., 7., 8., 8.],\n",
              "       [6., 1., 2., ..., 8., 8., 8.],\n",
              "       [1., 2., 2., ..., 8., 8., 8.]])"
            ]
          },
          "execution_count": 231,
          "metadata": {},
          "output_type": "execute_result"
        }
      ],
      "source": [
        "X_test = []\n",
        "X_test_time = []\n",
        "X_test_city = []\n",
        "y_test = np.array([1]*24).reshape(1,-1)\n",
        "\n",
        "for i in range(72, test_df_scale.shape[0]):\n",
        "    if selected_df_test.iloc[i-72]['stationID'] != selected_df_test.iloc[i]['stationID']:\n",
        "        continue\n",
        "    X_test.append(test_df_scale[i-72:i])\n",
        "    temp = selected_df_test['pm25'][i:i+24].to_numpy().reshape(1,-1)\n",
        "    if(temp.shape[1]!=24):\n",
        "      continue\n",
        "    y_test = np.vstack((y_test,temp))\n",
        "X_test = np.array(X_test)\n",
        "y_test"
      ]
    },
    {
      "cell_type": "code",
      "execution_count": 233,
      "metadata": {
        "id": "zjj6NU17gOOh"
      },
      "outputs": [],
      "source": [
        "y_test = y_test[1:]"
      ]
    },
    {
      "cell_type": "markdown",
      "metadata": {
        "id": "cHdNnuIoegY0"
      },
      "source": [
        "#Model"
      ]
    },
    {
      "cell_type": "code",
      "execution_count": 294,
      "metadata": {
        "id": "H-CJNtWzd0N1"
      },
      "outputs": [],
      "source": [
        "import tensorflow as tf\n",
        "from tensorflow.keras import Sequential\n",
        "from tensorflow.keras.layers import Dense, LSTM, Dropout, Bidirectional\n",
        "from tensorflow.keras.callbacks import EarlyStopping, ModelCheckpoint, ReduceLROnPlateau"
      ]
    },
    {
      "cell_type": "code",
      "execution_count": 295,
      "metadata": {
        "id": "F9QVTKmneh1j"
      },
      "outputs": [],
      "source": [
        "#create callback\n",
        "\n",
        "# change the file name here \n",
        "filepath = 'new_modelLSTM_pun8.hdf5'\n",
        "\n",
        "checkpoint = ModelCheckpoint(filepath=filepath, \n",
        "                             monitor='val_loss',\n",
        "                             verbose=0, \n",
        "                             save_best_only=True,\n",
        "                             mode='min')\n",
        "\n",
        "# earlystopping = EarlyStopping(\n",
        "#     monitor='val_loss', \n",
        "#     patience=5, \n",
        "#     min_delta=0, \n",
        "#     mode='auto'\n",
        "# )\n",
        "\n",
        "reduce_lr = ReduceLROnPlateau(\n",
        "    monitor='loss', \n",
        "    factor=0.2,   \n",
        "    patience=2, \n",
        "    min_lr=0.001,\n",
        "    verbose=0\n",
        ")\n",
        "callbacks = [checkpoint, reduce_lr]"
      ]
    },
    {
      "cell_type": "code",
      "execution_count": 297,
      "metadata": {
        "id": "B-S7vtP5euSa"
      },
      "outputs": [],
      "source": [
        "model = Sequential()\n",
        "model.add(LSTM(units=100, activation= \"relu\", return_sequences=True,\n",
        "               input_shape = (X_data.shape[1], X_data.shape[2])))\n",
        "model.add(Dropout(0.4))\n",
        "model.add(LSTM(units= 50, return_sequences=True))\n",
        "model.add(Dropout(0.3))\n",
        "model.add(LSTM(units= 50))\n",
        "model.add(Dense(units = 24 , activation=\"relu\"))  "
      ]
    },
    {
      "cell_type": "code",
      "execution_count": 298,
      "metadata": {
        "id": "NmjwCzi2eybo"
      },
      "outputs": [],
      "source": [
        "model.compile(optimizer='adam', \n",
        "              loss = 'mean_squared_error')"
      ]
    },
    {
      "cell_type": "code",
      "execution_count": 299,
      "metadata": {
        "colab": {
          "base_uri": "https://localhost:8080/"
        },
        "id": "54zFqwVAw8ZF",
        "outputId": "cd2fedcc-7ae9-477e-ae30-43f8fe47872a"
      },
      "outputs": [
        {
          "name": "stdout",
          "output_type": "stream",
          "text": [
            "Epoch 1/15\n",
            "391/391 [==============================] - 237s 593ms/step - loss: 0.0273 - val_loss: 0.0259 - lr: 0.0010\n",
            "Epoch 2/15\n",
            "391/391 [==============================] - 234s 599ms/step - loss: 0.0182 - val_loss: 0.0259 - lr: 0.0010\n",
            "Epoch 3/15\n",
            "391/391 [==============================] - 234s 598ms/step - loss: 0.0165 - val_loss: 0.0289 - lr: 0.0010\n",
            "Epoch 4/15\n",
            "391/391 [==============================] - 234s 599ms/step - loss: 0.0172 - val_loss: 0.0319 - lr: 0.0010\n",
            "Epoch 5/15\n",
            "391/391 [==============================] - 234s 599ms/step - loss: 0.0162 - val_loss: 0.0257 - lr: 0.0010\n",
            "Epoch 6/15\n",
            "391/391 [==============================] - 230s 587ms/step - loss: 0.0149 - val_loss: 0.0261 - lr: 0.0010\n",
            "Epoch 7/15\n",
            "391/391 [==============================] - 231s 590ms/step - loss: 0.0142 - val_loss: 0.0268 - lr: 0.0010\n",
            "Epoch 8/15\n",
            "391/391 [==============================] - 235s 601ms/step - loss: 0.0133 - val_loss: 0.0288 - lr: 0.0010\n",
            "Epoch 9/15\n",
            "391/391 [==============================] - 234s 599ms/step - loss: 0.0126 - val_loss: 0.0296 - lr: 0.0010\n",
            "Epoch 10/15\n",
            "391/391 [==============================] - 235s 600ms/step - loss: 0.0120 - val_loss: 0.0279 - lr: 0.0010\n",
            "Epoch 11/15\n",
            "391/391 [==============================] - 234s 598ms/step - loss: 0.0114 - val_loss: 0.0258 - lr: 0.0010\n",
            "Epoch 12/15\n",
            "391/391 [==============================] - 229s 586ms/step - loss: 0.0108 - val_loss: 0.0269 - lr: 0.0010\n",
            "Epoch 13/15\n",
            "391/391 [==============================] - 230s 589ms/step - loss: 0.0103 - val_loss: 0.0285 - lr: 0.0010\n",
            "Epoch 14/15\n",
            "391/391 [==============================] - 230s 589ms/step - loss: 0.0098 - val_loss: 0.0275 - lr: 0.0010\n",
            "Epoch 15/15\n",
            "391/391 [==============================] - 230s 587ms/step - loss: 0.0094 - val_loss: 0.0289 - lr: 0.0010\n"
          ]
        }
      ],
      "source": [
        "history = model.fit(X_data, \n",
        "          y_data, \n",
        "          epochs=15,\n",
        "          batch_size=256,\n",
        "          verbose=1,\n",
        "          callbacks=callbacks,\n",
        "          validation_data = (X_val, y_val)\n",
        "          )"
      ]
    },
    {
      "cell_type": "code",
      "execution_count": 300,
      "metadata": {
        "id": "gmIiQW7wgF41"
      },
      "outputs": [],
      "source": [
        "def plot_loss (history, model_name):\n",
        "    plt.figure(figsize = (10, 6))\n",
        "    plt.plot(history.history['loss'])\n",
        "    plt.plot(history.history['val_loss'])\n",
        "    plt.title('Model Train vs Validation Loss for ' + model_name)\n",
        "    plt.ylabel('Loss')\n",
        "    plt.xlabel('epoch')\n",
        "    plt.legend(['Train loss', 'Validation loss'], loc='upper right')"
      ]
    },
    {
      "cell_type": "code",
      "execution_count": 301,
      "metadata": {
        "colab": {
          "base_uri": "https://localhost:8080/",
          "height": 404
        },
        "id": "TqDXNVRqgMV2",
        "outputId": "345253d5-3af8-46be-a599-697d861bac53"
      },
      "outputs": [
        {
          "data": {
            "image/png": "[encoded data removed]",
            "text/plain": [
              "<Figure size 720x432 with 1 Axes>"
            ]
          },
          "metadata": {
            "needs_background": "light"
          },
          "output_type": "display_data"
        }
      ],
      "source": [
        "plot_loss (history, 'LSTM')"
      ]
    },
    {
      "cell_type": "markdown",
      "metadata": {
        "id": "P9NuJp41EINS"
      },
      "source": [
        "Save Model"
      ]
    },
    {
      "cell_type": "code",
      "execution_count": 303,
      "metadata": {
        "id": "FGTTQfNo-hMb"
      },
      "outputs": [],
      "source": [
        "model.save(\"/content/model.h5\")"
      ]
    },
    {
      "cell_type": "code",
      "execution_count": 302,
      "metadata": {
        "id": "lCe733zsfg0Z"
      },
      "outputs": [],
      "source": [
        "predicted = model.predict(X_test)"
      ]
    },
    {
      "cell_type": "code",
      "execution_count": 279,
      "metadata": {
        "colab": {
          "base_uri": "https://localhost:8080/"
        },
        "id": "YikH2wVWlFfO",
        "outputId": "59df249d-ee30-4b31-a1bd-b4a1450ad040"
      },
      "outputs": [
        {
          "data": {
            "text/plain": [
              "(36688, 24)"
            ]
          },
          "execution_count": 279,
          "metadata": {},
          "output_type": "execute_result"
        }
      ],
      "source": [
        "predicted.shape"
      ]
    },
    {
      "cell_type": "code",
      "execution_count": 280,
      "metadata": {
        "id": "m6XpKGjgVNpZ"
      },
      "outputs": [],
      "source": [
        "predicted = predicted[:36665]"
      ]
    },
    {
      "cell_type": "code",
      "execution_count": 281,
      "metadata": {
        "colab": {
          "base_uri": "https://localhost:8080/"
        },
        "id": "Ijinf2kYVS9R",
        "outputId": "b7551ca7-0df7-4fb1-cd8b-73d17dcc101b"
      },
      "outputs": [
        {
          "data": {
            "text/plain": [
              "(36665, 24)"
            ]
          },
          "execution_count": 281,
          "metadata": {},
          "output_type": "execute_result"
        }
      ],
      "source": [
        "predicted.shape"
      ]
    },
    {
      "cell_type": "code",
      "execution_count": 282,
      "metadata": {
        "colab": {
          "base_uri": "https://localhost:8080/"
        },
        "id": "01gb4BkKlb04",
        "outputId": "60c8f2b5-d206-4fdb-da28-6662ea36c6d7"
      },
      "outputs": [
        {
          "data": {
            "text/plain": [
              "(879960, 1)"
            ]
          },
          "execution_count": 282,
          "metadata": {},
          "output_type": "execute_result"
        }
      ],
      "source": [
        "y_test.shape"
      ]
    },
    {
      "cell_type": "code",
      "execution_count": 283,
      "metadata": {
        "id": "ECcF__vbpbda"
      },
      "outputs": [],
      "source": [
        "predicted = predicted.reshape(-1,1)\n",
        "y_test = y_test.reshape(-1,1)"
      ]
    },
    {
      "cell_type": "code",
      "execution_count": 284,
      "metadata": {
        "colab": {
          "base_uri": "https://localhost:8080/"
        },
        "id": "etWXTaPmplUj",
        "outputId": "13406ece-93f6-4103-86a1-eee975ad656a"
      },
      "outputs": [
        {
          "data": {
            "text/plain": [
              "(879960, 1)"
            ]
          },
          "execution_count": 284,
          "metadata": {},
          "output_type": "execute_result"
        }
      ],
      "source": [
        "y_test.shape"
      ]
    },
    {
      "cell_type": "code",
      "execution_count": 285,
      "metadata": {
        "id": "A-Hq7s_FmqTs"
      },
      "outputs": [],
      "source": [
        "sol = y_scaler.inverse_transform(np.array(predicted).reshape(-1,1))"
      ]
    },
    {
      "cell_type": "code",
      "execution_count": 286,
      "metadata": {
        "colab": {
          "base_uri": "https://localhost:8080/"
        },
        "id": "DTMz9_p0pWmr",
        "outputId": "a8cc508d-74ac-4f35-bd26-4dd186f102a0"
      },
      "outputs": [
        {
          "data": {
            "text/plain": [
              "(879960, 1)"
            ]
          },
          "execution_count": 286,
          "metadata": {},
          "output_type": "execute_result"
        }
      ],
      "source": [
        "sol.shape"
      ]
    },
    {
      "cell_type": "code",
      "execution_count": 287,
      "metadata": {
        "colab": {
          "base_uri": "https://localhost:8080/"
        },
        "id": "F-6JK-d_pyXK",
        "outputId": "a17238f6-2f44-4269-d138-51743f0b7d46"
      },
      "outputs": [
        {
          "data": {
            "text/plain": [
              "(879960, 1)"
            ]
          },
          "execution_count": 287,
          "metadata": {},
          "output_type": "execute_result"
        }
      ],
      "source": [
        "y_test.shape"
      ]
    },
    {
      "cell_type": "code",
      "execution_count": 288,
      "metadata": {
        "colab": {
          "base_uri": "https://localhost:8080/"
        },
        "id": "rGbN0lFwpo2F",
        "outputId": "e5b9195f-ce9f-4141-aff4-67f0ebea3bc1"
      },
      "outputs": [
        {
          "data": {
            "text/plain": [
              "(879960, 1)"
            ]
          },
          "execution_count": 288,
          "metadata": {},
          "output_type": "execute_result"
        }
      ],
      "source": [
        "sol.shape"
      ]
    },
    {
      "cell_type": "code",
      "execution_count": 289,
      "metadata": {
        "id": "RMlfjH4-lfrC"
      },
      "outputs": [],
      "source": [
        "from sklearn.metrics import mean_squared_error\n",
        "import math"
      ]
    },
    {
      "cell_type": "code",
      "execution_count": 290,
      "metadata": {
        "id": "GkuIb7Y3l-jl"
      },
      "outputs": [],
      "source": [
        "MSE = mean_squared_error(y_test,sol)\n",
        "RMSE = math.sqrt(MSE)"
      ]
    },
    {
      "cell_type": "code",
      "execution_count": 291,
      "metadata": {
        "colab": {
          "base_uri": "https://localhost:8080/"
        },
        "id": "jmMoiQHOmIxG",
        "outputId": "554312c8-dc69-47e4-c80d-6975fdca9169"
      },
      "outputs": [
        {
          "data": {
            "text/plain": [
              "17.377263969131032"
            ]
          },
          "execution_count": 291,
          "metadata": {},
          "output_type": "execute_result"
        }
      ],
      "source": [
        "RMSE"
      ]
    }
  ],
  "metadata": {
    "colab": {
      "collapsed_sections": [],
      "name": "TrainModel.ipynb",
      "provenance": []
    },
    "kernelspec": {
      "display_name": "Python 3",
      "name": "python3"
    },
    "language_info": {
      "name": "python"
    }
  },
  "nbformat": 4,
  "nbformat_minor": 0
}
